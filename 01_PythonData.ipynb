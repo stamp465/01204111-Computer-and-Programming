{
  "nbformat": 4,
  "nbformat_minor": 0,
  "metadata": {
    "anaconda-cloud": {},
    "kernelspec": {
      "name": "python3",
      "display_name": "Python 3"
    },
    "colab": {
      "name": "01_PythonData.ipynb",
      "provenance": [],
      "collapsed_sections": [],
      "include_colab_link": true
    }
  },
  "cells": [
    {
      "cell_type": "markdown",
      "metadata": {
        "id": "view-in-github",
        "colab_type": "text"
      },
      "source": [
        "<a href=\"https://colab.research.google.com/github/stamp465/01204111-Computer-and-Programming/blob/master/01_PythonData.ipynb\" target=\"_parent\"><img src=\"https://colab.research.google.com/assets/colab-badge.svg\" alt=\"Open In Colab\"/></a>"
      ]
    },
    {
      "cell_type": "markdown",
      "metadata": {
        "id": "hLH084UpjgEg"
      },
      "source": [
        "<center>\n",
        "<table ><tr><td valign='center' bgcolor='white'>\n",
        "  <a href=\"https://web.facebook.com/DAT.KUSRC/\" target=\"_blank\"><img src=\"https://drive.google.com/uc?id=1dNBiKikzW1-osi6lleLOgSOKQ65IIfMC\" height=\"50px\"></a>&nbsp;&nbsp;&nbsp;&nbsp;&nbsp;\n",
        "</td><td valign='center' bgcolor='white'>\n",
        "  <a href=\"https://www.ku.ac.th/\" target=\"_blank\"><img src=\"https://drive.google.com/uc?id=1ZfGOBmxAwg8SAhyseFziyinzxBGme78a\" height=\"80px\"></a>&nbsp;&nbsp;&nbsp;&nbsp;&nbsp;\n",
        "</td><td valign='center' bgcolor='white'>\n",
        "  <a href=\"https://mike.cpe.ku.ac.th/\" target=\"_blank\"><img src=\"https://drive.google.com/uc?id=1s6r3iG_Slpu_NSWqdt5zBp8Z9hV0-zh6\" height=\"50px\"></a>\n",
        "</td></tr></table>\n",
        "</center>"
      ]
    },
    {
      "cell_type": "markdown",
      "metadata": {
        "id": "PkZlXD7Qw_O7"
      },
      "source": [
        "<center><h1><b>Reading/Writing CSV Files &amp; CSV Data Processing</b></h1></center>\n",
        "\n",
        "---"
      ]
    },
    {
      "cell_type": "markdown",
      "metadata": {
        "id": "Xt-axqm3unOZ"
      },
      "source": [
        "**Table of Contents**\n",
        "\n",
        "* What is a CSV file?\n",
        "* Parsing CSV Files with Python's Built-in `csv` Module\n",
        "  * Reading CSV Files with `csv`\n",
        "  * Reading CSV Files into a Dictionary with `csv`\n",
        "  * Writing CSV Files with `csv`\n",
        "  * Writing CSV File from a Dictionary with `csv`\n",
        "* CSV Data Processing\n",
        "  * Simple Numerical Processing\n",
        "  * Simple Numerical Processing with the `numpy` Module"
      ]
    },
    {
      "cell_type": "markdown",
      "metadata": {
        "id": "et09C6PBvkkQ"
      },
      "source": [
        "## **1. What is a CSV file?**"
      ]
    },
    {
      "cell_type": "markdown",
      "metadata": {
        "id": "cM-CbeCAv0a3"
      },
      "source": [
        "A CSV file (**C**omma **S**eparated **V**alues file) is a type of plain text file that uses specific structuring to arrange tabular data. CSV is often used for exchanging data between different applications. Many applications and online services allow users to export their tabular data into a CSV file. Also, CSV can be opened by Microsoft Excel and Google spreadsheet, and nearly all databases have a tool to allow import from CSV file.\n",
        "\n",
        "The structure of a CSV file is defined by rows and columns data. In particular, each row is terminated by a newline. Within a row, each column (data value) is separated by a comma. The following shows an example of the `Cities.csv` file:\n",
        "\n",
        "<center><img src=\"https://drive.google.com/uc?id=1263dddIinp9aOqi-OVWnu67eainU4OUR\" width=\"400px\"></center>\n",
        "\n",
        "A CSV file can be more complicated than that, and can contain thousands of lines, more entries on each line, or long strings of text. Some CSV files may not even have the headers at the top, and some may use other delimiters to separate data values such as a colon(:), a semicolon(;), a tab(\\t), or another symbol.\n",
        "\n",
        "> Notice that there is also a familiar format, called JSON, but is beyond the scope of this lecture. A JSON file (**J**ava**S**cript **O**bject **N**otation file) is a plain text designed as a lightweight data-interchange language. It is easy for not only humans to read and write, but also machines to parse and generate. Although JSON was derived from JavaScript, it is a language-independent data format and uses conventions that are familiar to programmers of many languages, including C, C++, C#, Java, JavaScript, Python, etc.\n",
        "\n"
      ]
    },
    {
      "cell_type": "markdown",
      "metadata": {
        "id": "xx7ZOZ_BBGAh"
      },
      "source": [
        "## **2. Parsing CSV Files with Python's Built-in `csv` Module**"
      ]
    },
    {
      "cell_type": "markdown",
      "metadata": {
        "id": "OAmjM6cG673R"
      },
      "source": [
        "The `csv` module <sup>[<a href=\"https://docs.python.org/3/library/csv.html\" target=\"_blank\">1</a>]</sup> implements classes to read and write tabular data in CSV format. It allows programmers to say,  “read data from this file which was generated by Excel,” or “write this data in the format preferred by Excel,” without knowing the precise details of the CSV format used by Excel. Programmers can also describe the CSV formats understood by other applications or define their own special-purpose CSV formats."
      ]
    },
    {
      "cell_type": "code",
      "metadata": {
        "id": "J-VINaqlaMOo"
      },
      "source": [
        "# Load the Drive helper and mount\n",
        "from google.colab import drive\n",
        "\n",
        "# This will prompt for authorization.\n",
        "drive.mount('/content/drive')"
      ],
      "execution_count": null,
      "outputs": []
    },
    {
      "cell_type": "code",
      "metadata": {
        "id": "87K4egPQaOec"
      },
      "source": [
        "# After executing the cell above, Drive\n",
        "# files will be present in \"/content/drive/My Drive/\".\n",
        "!ls '/content/drive/My Drive/'"
      ],
      "execution_count": null,
      "outputs": []
    },
    {
      "cell_type": "code",
      "metadata": {
        "id": "6aqr8eq7JV3v"
      },
      "source": [
        "# Now, define your path of the input files\n",
        "data_path = '/content/drive/My Drive/ ... /'"
      ],
      "execution_count": null,
      "outputs": []
    },
    {
      "cell_type": "markdown",
      "metadata": {
        "id": "PAc9fmQSUSnN"
      },
      "source": [
        "### **2.1 Reading CSV Files with `csv`**"
      ]
    },
    {
      "cell_type": "markdown",
      "metadata": {
        "id": "FhmqlIS6EQ2T"
      },
      "source": [
        "The CSV file is first opened as a text file with Python's built-in `open()` function, which returns a file object. This is then passed to the `reader()` function, so that it returns a reader object which will iterate over lines in the given CSV file."
      ]
    },
    {
      "cell_type": "code",
      "metadata": {
        "id": "6eRAyIuyUSnU"
      },
      "source": [
        "import csv"
      ],
      "execution_count": null,
      "outputs": []
    },
    {
      "cell_type": "markdown",
      "metadata": {
        "id": "R5-myLi0Kysi"
      },
      "source": [
        "##### <font color=\"blue\">**Task 1:**</font> Read the `Cities.csv` file into a default list format, and then print all rows.\n",
        "\n",
        "*Note:* Make sure the data file is in the same folder as your notebook."
      ]
    },
    {
      "cell_type": "code",
      "metadata": {
        "id": "wL30mKOdKAjn"
      },
      "source": [
        "# Observe the \"city_reader\" object\n",
        "with open(data_path + 'Cities.csv') as city_file:\n",
        "    city_reader = csv.reader(city_file)\n",
        "    print(city_reader)"
      ],
      "execution_count": null,
      "outputs": []
    },
    {
      "cell_type": "code",
      "metadata": {
        "id": "d37GCbwOO_V-"
      },
      "source": [
        "# Observe the list of \"city_reader\" object\n",
        "with open(data_path + 'Cities.csv') as city_file:\n",
        "    city_reader = csv.reader(city_file)\n",
        "    print(list(city_reader))"
      ],
      "execution_count": null,
      "outputs": []
    },
    {
      "cell_type": "code",
      "metadata": {
        "id": "ffRuau54Oin8"
      },
      "source": [
        "# Show each record (i.e., row) from the \"csv_reader\" object\n",
        "with open(data_path + 'Cities.csv') as city_file:\n",
        "    city_reader = csv.reader(city_file)\n",
        "    for row in city_reader:\n",
        "        print(row)"
      ],
      "execution_count": null,
      "outputs": []
    },
    {
      "cell_type": "markdown",
      "metadata": {
        "id": "HRI8g1YaQJoM"
      },
      "source": [
        "##### <font color=\"blue\">**Task 2:**</font> Show all records of city and country from the `Cities.csv` file."
      ]
    },
    {
      "cell_type": "code",
      "metadata": {
        "id": "YVnpUwDxJ_7L"
      },
      "source": [
        "# Print the 1st column (i.e., city) and the 2nd column (i.e., country) only\n",
        "with open(data_path + 'Cities.csv') as city_file:\n",
        "    city_reader = csv.reader(city_file)\n",
        "    for row in city_reader:\n",
        "        print(row[0], row[1])"
      ],
      "execution_count": null,
      "outputs": []
    },
    {
      "cell_type": "markdown",
      "metadata": {
        "id": "XcwcEjEqQyNI"
      },
      "source": [
        "##### <font color=\"blue\">**Task 3:**</font> Show all cities with logitude less than 0 from the `Cities.csv` file.\n",
        "\n",
        "*Question:* What's happended? Please fix the problem.\n",
        "\n",
        "*Hint:* Observe the data type of all read values, and try to use the <code>next(*csv_object*)</code> function."
      ]
    },
    {
      "cell_type": "code",
      "metadata": {
        "id": "7ynYweVHUSn2"
      },
      "source": [
        "# Print the name and longitude of all cities with longitude < 0\n",
        "with open(data_path + 'Cities.csv') as city_file:\n",
        "    city_reader = csv.reader(city_file)\n",
        "    for row in city_reader:\n",
        "        if row[3] < 0:\n",
        "            print(row[0], row[3])"
      ],
      "execution_count": null,
      "outputs": []
    },
    {
      "cell_type": "markdown",
      "metadata": {
        "id": "cz2G6I91AanN"
      },
      "source": [
        "### **2.2 Reading CSV Files into a Dictionary with `csv`**"
      ]
    },
    {
      "cell_type": "markdown",
      "metadata": {
        "id": "jO_NFQMdAwxp"
      },
      "source": [
        "Rather than deal with a list of individual `String` elements, the `csv` module provides the `DictReader()` function to read CSV data directly into an *ordered dictionary*."
      ]
    },
    {
      "cell_type": "markdown",
      "metadata": {
        "id": "_7gpBX9ACsh5"
      },
      "source": [
        "##### <font color=\"blue\">**Task 4:**</font> Read the `Cities.csv` file into a dictionary format, and then print all rows.\n",
        "\n",
        "*Question:* Where do the dictionary keys come from?"
      ]
    },
    {
      "cell_type": "code",
      "metadata": {
        "id": "DNZoZd4GUSno"
      },
      "source": [
        "# Similar to above except use the dictionary format\n",
        "with open(data_path + 'Cities.csv') as city_file:\n",
        "    city_reader = csv.DictReader(city_file)\n",
        "    for row in city_reader:\n",
        "        print(row)"
      ],
      "execution_count": null,
      "outputs": []
    },
    {
      "cell_type": "markdown",
      "metadata": {
        "id": "ncIZekF4FMPO"
      },
      "source": [
        "##### <font color=\"blue\">**Task 5:**</font> Again, show all cities with logitude less than 0 from the `Cities.csv` file.\n",
        "\n",
        "*Note:* No need to skip the header."
      ]
    },
    {
      "cell_type": "code",
      "metadata": {
        "id": "WtlkVAJlUSnv"
      },
      "source": [
        "# With the dictionary format, print the name and longitude of all cities with longitude < 0\n",
        "with open(data_path + 'Cities.csv') as city_file:\n",
        "    city_reader = csv.DictReader(city_file)\n",
        "    for row in city_reader:\n",
        "        if float(row['longitude']) < 0:\n",
        "            print(row['city'], row['longitude'])"
      ],
      "execution_count": null,
      "outputs": []
    },
    {
      "cell_type": "markdown",
      "metadata": {
        "id": "KukV-WIwUSoA"
      },
      "source": [
        "##### <font color=\"green\">**Your Turn #1**</font> (5 Minutes)"
      ]
    },
    {
      "cell_type": "code",
      "metadata": {
        "id": "tEGRotrLUSoC"
      },
      "source": [
        "# Using Countries.csv and reading in dictionary format, find\n",
        "# all countries that have coastline and are not in the EU.\n",
        "# Print the list of countries and their population.\n",
        "# Note: for the \"and\" of two conditions C1 and C2, use \"C1 and C2\"\n",
        "# Hint: The copy-paste-modify approach to programming is highly recommended!"
      ],
      "execution_count": null,
      "outputs": []
    },
    {
      "cell_type": "markdown",
      "metadata": {
        "id": "12qeXa1q_Pys"
      },
      "source": [
        "Output:\n",
        "```\n",
        "Albania 2.9\n",
        "Bosnia and Herzegovina 3.8\n",
        "Iceland 0.33\n",
        "Montenegro 0.63\n",
        "Norway 5.27\n",
        "Turkey 79.62\n",
        "Ukraine 44.62\n",
        "```\n",
        "\n",
        "\n"
      ]
    },
    {
      "cell_type": "markdown",
      "metadata": {
        "id": "Fk8wBEoYF81v"
      },
      "source": [
        "##### <font color=\"blue\">**Task 6:**</font> Use the `Cities.csv` and `Countries.csv` files to show cities with whether they are in or not in EU."
      ]
    },
    {
      "cell_type": "code",
      "metadata": {
        "id": "dCIE3hKuUSn7"
      },
      "source": [
        "# Perform join of cities and countries, print city and whether in EU\n",
        "with open(data_path + 'Cities.csv') as city_file:\n",
        "    city_reader = csv.DictReader(city_file)\n",
        "    for city in city_reader:\n",
        "        with open(data_path + 'Countries.csv') as country_file:\n",
        "            country_reader = csv.DictReader(country_file)\n",
        "            for country in country_reader:\n",
        "                if city['country'] == country['country']:\n",
        "                    print(city['city'], country['EU'])"
      ],
      "execution_count": null,
      "outputs": []
    },
    {
      "cell_type": "markdown",
      "metadata": {
        "id": "YRsCkT1xUSoG"
      },
      "source": [
        "##### <font color=\"blue\">**Task 7:**</font> Again, show all cities with whether they are in or not in EU, but use a method with Python data structure."
      ]
    },
    {
      "cell_type": "markdown",
      "metadata": {
        "id": "D3qAPSteJIpQ"
      },
      "source": [
        "As the program in *task 6*, it is not quite efficient since we open the `Countries.csv` file as many times as the number of cities contained in the `Cities.csv` file to perform join of countries between them. To deal with this problem, we can store the CSV data after reading the file into a Python data structure, like a *list*, for later processing. The following shows an example of using a list of dictionaries."
      ]
    },
    {
      "cell_type": "code",
      "metadata": {
        "id": "ES4zu4A0USoK"
      },
      "source": [
        "# Read Cities.csv data into list of dictionaries\n",
        "cities = []\n",
        "with open(data_path + 'Cities.csv') as city_file:\n",
        "    city_reader = csv.DictReader(city_file)\n",
        "    for row in city_reader:\n",
        "        cities.append(row)\n",
        "print(cities)"
      ],
      "execution_count": null,
      "outputs": []
    },
    {
      "cell_type": "code",
      "metadata": {
        "id": "D_vEDxR1NMdA"
      },
      "source": [
        "# An alternative method to read Cities.csv data into list of dictionaries\n",
        "with open(data_path + 'Cities.csv') as city_file:\n",
        "    city_reader = csv.DictReader(city_file)\n",
        "    cities = list(city_reader)\n",
        "print(cities)"
      ],
      "execution_count": null,
      "outputs": []
    },
    {
      "cell_type": "code",
      "metadata": {
        "id": "EiAQRG6uPo-9"
      },
      "source": [
        "# Perform join of cities and countries, print city and whether in EU\n",
        "with open(data_path + 'Cities.csv') as city_file:\n",
        "    city_reader = csv.DictReader(city_file)\n",
        "    cities = list(city_reader)\n",
        "\n",
        "with open(data_path + 'Countries.csv') as country_file:\n",
        "    country_reader = csv.DictReader(country_file)\n",
        "    countries = list(country_reader)\n",
        "\n",
        "for city in cities:\n",
        "    for country in countries:\n",
        "        if city['country'] == country['country']:\n",
        "            print(city['city'], country['EU'])"
      ],
      "execution_count": null,
      "outputs": []
    },
    {
      "cell_type": "markdown",
      "metadata": {
        "id": "Z21q05AcQvt5"
      },
      "source": [
        "### **2.3 Writing CSV Files with `csv`**"
      ]
    },
    {
      "cell_type": "markdown",
      "metadata": {
        "id": "G_HNMypKQy7G"
      },
      "source": [
        "To write CSV data into a CSV file, we need to first open a file with the same Python's built-in `open()` function using the write (`w`) mode. This file object will be passed to the `csv`'s `write()` function together with some defined parameters, such as a `delimiter` symbol. Then, we use the `writerow()` method to write data."
      ]
    },
    {
      "cell_type": "markdown",
      "metadata": {
        "id": "BACMJOJtWsIH"
      },
      "source": [
        "##### <font color=\"blue\">**Task 8:**</font> Write the employees' information into the `Employees.csv` file.\n",
        "\n",
        "*Note:* If the `delimiter` parameter is omitted, the default separator will be comma(,). "
      ]
    },
    {
      "cell_type": "code",
      "metadata": {
        "id": "y1Pbf4e7Xevz"
      },
      "source": [
        "# Do not forget to \"import csv\"\n",
        "with open(data_path + 'Employees.csv', mode='w') as employee_file:\n",
        "    employee_writer = csv.writer(employee_file, delimiter=',')\n",
        "\n",
        "    employee_writer.writerow(['name', 'position', 'birth_month'])\n",
        "    employee_writer.writerow(['John Smith', 'Accounting', 'November'])\n",
        "    employee_writer.writerow(['Erica Meyers', 'IT', 'March'])"
      ],
      "execution_count": null,
      "outputs": []
    },
    {
      "cell_type": "markdown",
      "metadata": {
        "id": "Pu5yOJYYn2FF"
      },
      "source": [
        "### **2.4 Writing CSV File from a Dictionary with `csv`**"
      ]
    },
    {
      "cell_type": "markdown",
      "metadata": {
        "id": "hoae7spkn-oz"
      },
      "source": [
        "The `csv` module provides the way to write data from a dictionary structure, as well, through the `DictWriter()` function. Unlike the `DictReader()` one, the `fieldnames` parameter is required when writing a dictionary. This makes sense, when without a list of `fieldnames`, the writer object cannot know which keys to use to retrieve values from the dictionaries. It also uses the keys in `fieldnames` to write out the first row as column names, using the `writeheader()` method."
      ]
    },
    {
      "cell_type": "markdown",
      "metadata": {
        "id": "hNyafGn8xajD"
      },
      "source": [
        "##### <font color=\"blue\">**Task 9:**</font> Write the employees' information from the dictionary into the `Employees.csv` file."
      ]
    },
    {
      "cell_type": "code",
      "metadata": {
        "id": "py9f-Ktaqh_O"
      },
      "source": [
        "# Do not forget to \"import csv\"\n",
        "with open(data_path + 'Employees.csv', mode='w') as employee_file:\n",
        "    fieldnames = ['name', 'position', 'birth_month']\n",
        "    employee_writer = csv.DictWriter(employee_file, fieldnames=fieldnames)\n",
        "\n",
        "    employee_writer.writeheader()\n",
        "    employee_writer.writerow({'name': 'John Smith', 'position': 'Accounting', 'birth_month': 'November'})\n",
        "    employee_writer.writerow({'name': 'Erica Meyers', 'position': 'IT', 'birth_month': 'March'})"
      ],
      "execution_count": null,
      "outputs": []
    },
    {
      "cell_type": "markdown",
      "metadata": {
        "id": "wsOxCsUXIsJX"
      },
      "source": [
        "## **3. CSV Data Processing**"
      ]
    },
    {
      "cell_type": "markdown",
      "metadata": {
        "id": "4z6Ffxb2udVp"
      },
      "source": [
        "### **3.1 Simple Numerical Processing**"
      ]
    },
    {
      "cell_type": "markdown",
      "metadata": {
        "id": "t_nmJZEp53Nq"
      },
      "source": [
        "##### <font color=\"blue\">**Task 10:**</font> Use the data from the `Cities.csv` file and find overall minimum and maximum city temperatures.\n",
        "\n",
        "*Note:* Here, we use the Python's built-in `min()` and `max()` functions to process a list of numeric values."
      ]
    },
    {
      "cell_type": "code",
      "metadata": {
        "id": "I6jr2jV254Be"
      },
      "source": [
        "# Overall minimum and maximum temperatures\n",
        "temps = [] # list of all temperatures\n",
        "with open(data_path + 'Cities.csv') as city_file:\n",
        "    city_reader = csv.DictReader(city_file)\n",
        "    for row in city_reader:\n",
        "        temps.append(float(row['temperature']))\n",
        "print('Minimum:', min(temps))\n",
        "print('Maximum:', max(temps))"
      ],
      "execution_count": null,
      "outputs": []
    },
    {
      "cell_type": "code",
      "metadata": {
        "id": "ZpmTRNIgUSo3"
      },
      "source": [
        "# Alternative method\n",
        "min_val = 100.00  # greater than any possible minimum\n",
        "max_val = -100.00 # smaller than any possible maximum\n",
        "with open(data_path + 'Cities.csv') as city_file:\n",
        "    city_reader = csv.DictReader(city_file)\n",
        "    for row in city_reader:\n",
        "        temp = float(row['temperature'])\n",
        "        if temp < min_val:\n",
        "            min_val = temp\n",
        "        if temp > max_val:\n",
        "            max_val = temp\n",
        "print('Minimum:', min_val)\n",
        "print('Maximum:', max_val)"
      ],
      "execution_count": null,
      "outputs": []
    },
    {
      "cell_type": "markdown",
      "metadata": {
        "id": "1AqH1jPEuwe2"
      },
      "source": [
        "##### <font color=\"blue\">**Task 11:**</font> Use the data from the `Cities.csv` file to compute average temperature of overall cities.\n",
        "\n",
        "*Note:* To find the average of a list by simply using the `sum()` and `len()` functions."
      ]
    },
    {
      "cell_type": "code",
      "metadata": {
        "id": "DNIy0KO6USoU"
      },
      "source": [
        "# Compute overall average city temperature\n",
        "temps = []\n",
        "with open(data_path + 'Cities.csv') as city_file:\n",
        "    city_reader = csv.DictReader(city_file)\n",
        "    for row in city_reader:\n",
        "        temps.append(float(row['temperature']))\n",
        "print('Overall temperature is', sum(temps)/len(temps))"
      ],
      "execution_count": null,
      "outputs": []
    },
    {
      "cell_type": "markdown",
      "metadata": {
        "id": "e2kKtqPqx16w"
      },
      "source": [
        "##### <font color=\"blue\">**Task 12:**</font> Use the data from the `Cities.csv` file to compute average city temperature for each country.\n",
        "*Hint:* The idea is that we may store data in a `dict` structure for further compute.\n",
        "```\n",
        "temps = {'country1': temp1, 'country2': temp2, ...}\n",
        "print(temps['country1'])\n",
        "```"
      ]
    },
    {
      "cell_type": "code",
      "metadata": {
        "id": "1Qy6N2w-USoZ"
      },
      "source": [
        "# Compute average city temperature for each country\n",
        "# Lots to notice here in terms of using dictionaries!\n",
        "sums = {} # dictionary with key = country and value = sum of temperatures\n",
        "counts = {} # dictionary with key = country and value = number of cities\n",
        "with open(data_path + 'Cities.csv') as city_file:\n",
        "    city_reader = csv.DictReader(city_file)\n",
        "    for row in city_reader:\n",
        "        if row['country'] not in sums.keys(): # Just met for the first time\n",
        "            sums[row['country']] = 0\n",
        "            counts[row['country']] = 0\n",
        "        sums[row['country']] += float(row['temperature'])\n",
        "        counts[row['country']] += 1\n",
        "#print(sums)\n",
        "#print(counts)\n",
        "for country in sums.keys():\n",
        "    print(country, sums[country]/counts[country])"
      ],
      "execution_count": null,
      "outputs": []
    },
    {
      "cell_type": "markdown",
      "metadata": {
        "id": "zvbnJhhnUSod"
      },
      "source": [
        "##### <font color=\"green\">**Your Turn #2**</font> (8 Minutes)"
      ]
    },
    {
      "cell_type": "code",
      "metadata": {
        "scrolled": true,
        "id": "HFz7omsWUSoe"
      },
      "source": [
        "# Compute the average longitude and average latitude of all\n",
        "# cities that are in an EU country. Print the two values.\n",
        "# First four lines are included as a hint:\n",
        "lats = [] # list of latitudes of cities in an EU country\n",
        "longs = [] # list of longitudes of cities in an EU country\n",
        "cities = []\n",
        "countries = []\n",
        "# your code here"
      ],
      "execution_count": null,
      "outputs": []
    },
    {
      "cell_type": "markdown",
      "metadata": {
        "id": "HT-Jeo41PGJA"
      },
      "source": [
        "Output:\n",
        "```\n",
        "Average latitude: 48.19646666666664\n",
        "Average longitude: 10.359733333333333\n",
        "```\n",
        "\n",
        "\n"
      ]
    },
    {
      "cell_type": "markdown",
      "metadata": {
        "id": "2Ms4W3LUUSoj"
      },
      "source": [
        "### **3.2 Simple Numerical Processing with the `numpy` Module**"
      ]
    },
    {
      "cell_type": "markdown",
      "metadata": {
        "id": "lNJAgiT_2-y7"
      },
      "source": [
        "NumPy <sup>[<a href=\"https://numpy.org/\" target=\"_blank\">2</a>]</sup> is the fundamental package for scientific computing with Python. It contains among other things:\n",
        "\n",
        "* a powerful N-dimensional array object\n",
        "* sophisticated (broadcasting) functions\n",
        "* tools for integrating C/C++ and Fortran code\n",
        "* useful linear algebra, Fourier transform, and random number capabilities\n",
        "\n",
        "Besides its obvious scientific uses, NumPy can also be used as an efficient multi-dimensional container of generic data. Arbitrary data-types can be defined. This allows NumPy to seamlessly and speedily integrate with a wide variety of databases."
      ]
    },
    {
      "cell_type": "code",
      "metadata": {
        "id": "-Z-gcwlPUSok"
      },
      "source": [
        "import numpy as np"
      ],
      "execution_count": null,
      "outputs": []
    },
    {
      "cell_type": "markdown",
      "metadata": {
        "id": "JWtm6m19PM9p"
      },
      "source": [
        "##### **Short Introduction:** Arrays"
      ]
    },
    {
      "cell_type": "markdown",
      "metadata": {
        "id": "gIDzD5AKQbpc"
      },
      "source": [
        "NumPy's main object is the homogeneous multidimensional array. It is a table of elements (usually numbers), all of the **same type**, indexed by a tuple of non-negative integers. In NumPy dimensions are called *axes*.\n",
        "\n",
        "NumPy's array class is called `ndarray`."
      ]
    },
    {
      "cell_type": "markdown",
      "metadata": {
        "id": "lR4myCz3Wa16"
      },
      "source": [
        "**Array Creation**\n",
        "\n",
        "There are several ways to create arrays. One can create an array from a regular Python list or tuple using the `array()` function. The type of the resulting array is deduced from the type of the elements in the sequences. "
      ]
    },
    {
      "cell_type": "code",
      "metadata": {
        "id": "ijwaG0N1Zfox"
      },
      "source": [
        "a = np.array([1, 2, 3])\n",
        "print(a)\n",
        "print(type(a))"
      ],
      "execution_count": null,
      "outputs": []
    },
    {
      "cell_type": "code",
      "metadata": {
        "id": "0jnKoR2OuP4-"
      },
      "source": [
        "b = np.array([1, 2, 3.0])\n",
        "print(b)\n",
        "print(type(b))"
      ],
      "execution_count": null,
      "outputs": []
    },
    {
      "cell_type": "markdown",
      "metadata": {
        "id": "0eXonXoiXtHe"
      },
      "source": [
        "**Attributes**\n",
        "\n",
        "The important attributes of an `ndarray` object are:\n",
        "\n",
        "<code>*ndarray*.ndim</code>\n",
        "<dd>The number of axes (dimensions) of the array.</dd>\n",
        "\n",
        "<code>*ndarray*.shape</code>\n",
        "<dd>The dimensions of the array. This is a tuple of integers indicating the size of the array in each dimension. For a matrix with n rows and m columns, shape will be (n,m). The length of the shape tuple is therefore the number of axes, ndim.</dd>\n",
        "\n",
        "<code>*ndarray*.size</code>\n",
        "<dd>The total number of elements of the array. This is equal to the product of the elements of shape.</dd>\n",
        "\n",
        "<code>*ndarray*.dtype</code>\n",
        "<dd>An object describing the type of the elements in the array. One can create or specify dtype's using standard Python types. Additionally NumPy provides types of its own. numpy.int32, numpy.int16, and numpy.float64 are some examples.</dd>\n",
        "\n",
        "<code>*ndarray*.itemsize</code>\n",
        "<dd>The size in bytes of each element of the array. For example, an array of elements of type float64 has itemsize 8 (=64/8), while one of type complex32 has itemsize 4 (=32/8). It is equivalent to ndarray.dtype.itemsize.</dd>\n",
        "\n",
        "<code>*ndarray*.data</code>\n",
        "<dd>The buffer containing the actual elements of the array. Normally, we will not need to use this attribute because we will access the elements in an array using indexing facilities.</dd>\n"
      ]
    },
    {
      "cell_type": "code",
      "metadata": {
        "id": "_2jMifuYjl6f"
      },
      "source": [
        "a = np.array([1, 2, 3])\n",
        "print('ndim:', a.ndim)\n",
        "print('shape:', a.shape)\n",
        "print('size:', a.size)\n",
        "print('dtype:', a.dtype)\n",
        "print('itemsize:', a.itemsize)\n",
        "print('data:', a.data)"
      ],
      "execution_count": null,
      "outputs": []
    },
    {
      "cell_type": "code",
      "metadata": {
        "id": "3nZnpUf_kKcy"
      },
      "source": [
        "b = np.array([[1, 2, 3],[4,5,6]])\n",
        "print('ndim:', b.ndim)\n",
        "print('shape:', b.shape)\n",
        "print('size:', b.size)\n",
        "print('dtype:', b.dtype)\n",
        "print('itemsize:', b.itemsize)\n",
        "print('data:', b.data)"
      ],
      "execution_count": null,
      "outputs": []
    },
    {
      "cell_type": "markdown",
      "metadata": {
        "id": "LOXrNm64k5l-"
      },
      "source": [
        "**Basic Operations**\n",
        "\n",
        "Arithmetic operators on arrays apply *element-wise*. A new array is created and filled with the result."
      ]
    },
    {
      "cell_type": "code",
      "metadata": {
        "id": "-QtZ9MaXlsbp"
      },
      "source": [
        "a = np.array([1,2,3])\n",
        "b = np.array([4,5,6])"
      ],
      "execution_count": null,
      "outputs": []
    },
    {
      "cell_type": "code",
      "metadata": {
        "id": "d-TRlsUDmAWx"
      },
      "source": [
        "print(a+2)"
      ],
      "execution_count": null,
      "outputs": []
    },
    {
      "cell_type": "code",
      "metadata": {
        "id": "1EPnuRgimDNi"
      },
      "source": [
        "print(a*2)"
      ],
      "execution_count": null,
      "outputs": []
    },
    {
      "cell_type": "code",
      "metadata": {
        "id": "P097dFmEmqxB"
      },
      "source": [
        "print(a+b)"
      ],
      "execution_count": null,
      "outputs": []
    },
    {
      "cell_type": "code",
      "metadata": {
        "id": "oGoY8EGSmt3r"
      },
      "source": [
        "print(a*b)"
      ],
      "execution_count": null,
      "outputs": []
    },
    {
      "cell_type": "code",
      "metadata": {
        "id": "rdkpA91NmwKx"
      },
      "source": [
        "a = np.array([[1,2],[3,4]])\n",
        "b = np.array([[1,2],[3,4]])\n",
        "print(a*b)"
      ],
      "execution_count": null,
      "outputs": []
    },
    {
      "cell_type": "markdown",
      "metadata": {
        "id": "XxGG3688nNpt"
      },
      "source": [
        "**Universal Functions**\n",
        "\n",
        "NumPy provides familiar mathematical functions such as `sin()`, `cos()`, and `exp()`. In NumPy, these are called *universal functions*. Within NumPy, these functions operate *element-wise* on an array, producing an array as output."
      ]
    },
    {
      "cell_type": "code",
      "metadata": {
        "id": "borFaoJ8n4-2"
      },
      "source": [
        "a = np.array([1,2,3])"
      ],
      "execution_count": null,
      "outputs": []
    },
    {
      "cell_type": "code",
      "metadata": {
        "id": "ImnrvEasoyrX"
      },
      "source": [
        "print(np.sin(a))"
      ],
      "execution_count": null,
      "outputs": []
    },
    {
      "cell_type": "code",
      "metadata": {
        "id": "FOwVFXZ7oKvR"
      },
      "source": [
        "print(np.sqrt(a))"
      ],
      "execution_count": null,
      "outputs": []
    },
    {
      "cell_type": "code",
      "metadata": {
        "id": "Tg4IjWbMo6vw"
      },
      "source": [
        "print(np.sum(a))"
      ],
      "execution_count": null,
      "outputs": []
    },
    {
      "cell_type": "code",
      "metadata": {
        "id": "waYJv7huo_IP"
      },
      "source": [
        "print(np.average(a))"
      ],
      "execution_count": null,
      "outputs": []
    },
    {
      "cell_type": "markdown",
      "metadata": {
        "id": "lLMrvHerpMrW"
      },
      "source": [
        "##### <font color=\"blue\">**Task 13:**</font> Again, with the `numpy` module, use the data from the `Cities.csv` file to compute average temperature of overall cities."
      ]
    },
    {
      "cell_type": "code",
      "metadata": {
        "id": "pAw5KMuoUSoo"
      },
      "source": [
        "# Compute overall average city temperature\n",
        "temps = []\n",
        "with open(data_path + 'Cities.csv') as city_file:\n",
        "    city_reader = csv.DictReader(city_file)\n",
        "    for row in city_reader:\n",
        "        temps.append(float(row['temperature']))\n",
        "print('Overall temperature is', np.average(temps))"
      ],
      "execution_count": null,
      "outputs": []
    },
    {
      "cell_type": "markdown",
      "metadata": {
        "id": "VOdToDYnqgZZ"
      },
      "source": [
        "##### <font color=\"blue\">**Task 14:**</font> Again, with the `numpy` module, use the data from the `Cities.csv` file to compute average city temperature for each country.\n",
        "*Hint:* The idea is that we may store data in a `dict` of `list` structure for further compute.\n",
        "```\n",
        "temps = {'country1': [temp1_1, temp1_2, ...], 'country2': [temp2_1, temp2_2, ...], ...}\n",
        "print(temps['country1'])\n",
        "```"
      ]
    },
    {
      "cell_type": "code",
      "metadata": {
        "id": "iMGVRnMOUSot"
      },
      "source": [
        "# Compute average city temperature for each country\n",
        "temps = {} # dictionary with key = country and value = list of temperatures\n",
        "with open(data_path + 'Cities.csv') as city_file:\n",
        "    city_reader = csv.DictReader(city_file)\n",
        "    for row in city_reader:\n",
        "        if row['country'] not in temps.keys():\n",
        "            temps[row['country']] = [float(row['temperature'])]\n",
        "        else:\n",
        "            temps[row['country']].append(float(row['temperature']))\n",
        "#print(temps)\n",
        "for country in temps.keys():\n",
        "    print(country, np.average(temps[country]))"
      ],
      "execution_count": null,
      "outputs": []
    },
    {
      "cell_type": "markdown",
      "metadata": {
        "id": "7Mmcy711USo7"
      },
      "source": [
        "##### <font color=\"green\">**Your Turn #3**</font> (10 Minutes)"
      ]
    },
    {
      "cell_type": "code",
      "metadata": {
        "scrolled": true,
        "id": "M1gMMFLMUSo9"
      },
      "source": [
        "# Determine which country has the lowest average city temperature\n",
        "# and which country has the highest average city temperature.\n",
        "# Print the two countries.\n",
        "# Hint: Start with code above that computes average temperatures\n",
        "# for each country, then adapt the second min/max method.\n",
        "# Suggestion: Get lowest working then add highest"
      ],
      "execution_count": null,
      "outputs": []
    },
    {
      "cell_type": "markdown",
      "metadata": {
        "id": "GTYORbIXhD8G"
      },
      "source": [
        "Output:\n",
        "```\n",
        "The lowest average city temperature: Finland\n",
        "The highest average city temperature: Greece\n",
        "```\n",
        "\n",
        "\n"
      ]
    },
    {
      "cell_type": "markdown",
      "metadata": {
        "id": "uGbZQOzXUSpA"
      },
      "source": [
        "## **<font color=\"green\">Homework: World Cup Data</font>**"
      ]
    },
    {
      "cell_type": "code",
      "metadata": {
        "id": "4eaL-lIQUSpB"
      },
      "source": [
        "# What player on a team with \"ia\" in the team name played less than\n",
        "# 200 minutes and made more than 100 passes? Print the player surname.\n",
        "# Note: In Python, use \"'abc' in s\" to check whether string s contains'abc'\n",
        "# Reminder: Convert minutes and passes to integers before comparing to values"
      ],
      "execution_count": null,
      "outputs": []
    },
    {
      "cell_type": "code",
      "metadata": {
        "id": "grAtmBG0USpF"
      },
      "source": [
        "# What is the average number of passes made by defenders? By forwards?"
      ],
      "execution_count": null,
      "outputs": []
    },
    {
      "cell_type": "code",
      "metadata": {
        "id": "Zqd_WUPKUSpI"
      },
      "source": [
        "# Which team has the highest ratio of goalsFor to goalsAgainst?\n",
        "# Print the team name only.\n",
        "# Reminder: Use float() to make sure you're doing floating point division\n",
        "# Hint: Use two variables to keep track of highest ratio seen so far\n",
        "# and team with that ratio:\n",
        "ratio = 0 # highest ratio seen so far\n",
        "team = '' # team with highest ratio\n",
        "# Your code here"
      ],
      "execution_count": null,
      "outputs": []
    },
    {
      "cell_type": "code",
      "metadata": {
        "id": "0eqPtv8oUSpN"
      },
      "source": [
        "# How many players on a team with ranking <10 played more than 350 minutes?\n",
        "# Reminder: Convert ranking and minutes to integers before comparing to values\n",
        "# Hint: Compute join of Players and Teams, using a variable to count number of\n",
        "# players satisfying requirement"
      ],
      "execution_count": null,
      "outputs": []
    },
    {
      "cell_type": "code",
      "metadata": {
        "id": "_b-3mWgLUSpQ"
      },
      "source": [
        "# BONUS!\n",
        "# Write a loop that interactively asks the user to enter a team name.\n",
        "# If the team exists, print how many games the team played, how many\n",
        "# yellow cards and red cards the team had, and the average number of\n",
        "# minutes played by players on that team.\n",
        "# If the team doesn't exist, print \"Team not in 2010 World Cup\".\n",
        "# If 'quit' is entered, terminate the loop."
      ],
      "execution_count": null,
      "outputs": []
    },
    {
      "cell_type": "markdown",
      "metadata": {
        "id": "wuF-CNwiv7JJ"
      },
      "source": [
        "## **Acknowledgement**\n",
        "\n",
        "Most parts of this tutorial were originated from Prof. Jennifer Widom, Stanford University. Many thanks to her for providing a short-course and workshop in data science at Kasetsart University (Main Campus) in October 2016."
      ]
    },
    {
      "cell_type": "markdown",
      "metadata": {
        "id": "FI7GtURc8Jo0"
      },
      "source": [
        "## **References**\n",
        "\n",
        "[1] CSV File Reading and Writing, https://docs.python.org/3/library/csv.html\n",
        "\n",
        "[2] NumPy, https://numpy.org/"
      ]
    }
  ]
}